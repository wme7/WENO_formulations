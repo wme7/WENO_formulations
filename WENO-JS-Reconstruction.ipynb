{
 "cells": [
  {
   "cell_type": "markdown",
   "metadata": {},
   "source": [
    "# WENO Reconstruction\n",
    "[]: # (C) 2017-2024, Manuel A. Diaz"
   ]
  },
  {
   "cell_type": "code",
   "execution_count": 1,
   "metadata": {},
   "outputs": [],
   "source": [
    "# Load everything from sympy\n",
    "from sympy import *\n",
    "init_printing(use_unicode=True)"
   ]
  },
  {
   "cell_type": "code",
   "execution_count": 2,
   "metadata": {},
   "outputs": [
    {
     "data": {
      "image/png": "[encoded data removed]",
      "text/latex": [
       "$\\displaystyle \\left( \\frac{u_{5}}{30} - \\frac{13 u_{6}}{60} + \\frac{47 u_{7}}{60} + \\frac{9 u_{8}}{20} - \\frac{u_{9}}{20}, \\  - \\frac{u_{5}}{20} + \\frac{9 u_{6}}{20} + \\frac{47 u_{7}}{60} - \\frac{13 u_{8}}{60} + \\frac{u_{9}}{30}\\right)$"
      ],
      "text/plain": [
       "⎛u₅   13⋅u₆   47⋅u₇   9⋅u₈   u₉    u₅   9⋅u₆   47⋅u₇   13⋅u₈   u₉⎞\n",
       "⎜── - ───── + ───── + ──── - ──, - ── + ──── + ───── - ───── + ──⎟\n",
       "⎝30     60      60     20    20    20    20      60      60    30⎠"
      ]
     },
     "execution_count": 2,
     "metadata": {},
     "output_type": "execute_result"
    }
   ],
   "source": [
    "# WENO reconstruction\n",
    "x = Symbol('x')\n",
    "dx = Symbol('dx')\n",
    "U = symbols('u_0:10')\n",
    "\n",
    "# Define primitive function U(x) that integrates u(x), a continuous function, over a grid of cell averages \n",
    "def U_primitive(n) :\n",
    "    return sum(dx * U[i] for i in range(0, n+1))\n",
    "\n",
    "# Define the 5-point stencil\n",
    "Xdata = [-3*dx, -2*dx, -dx, 0, dx, 2*dx]\n",
    "Udata = [U_primitive(4), U_primitive(5), U_primitive(6), U_primitive(7), U_primitive(8), U_primitive(9)]\n",
    "\n",
    "# Compute the 5-point stencil interpolant to the Right of the interface\n",
    "pR5 = polys.specialpolys.interpolating_poly(6, x, X=Xdata, Y=Udata).diff(x, 1).subs(x, 0).expand()\n",
    "\n",
    "# Compute the 5-point stencil interpolant to the Left of the interface\n",
    "pL5 = polys.specialpolys.interpolating_poly(6, x, X=Xdata, Y=Udata).diff(x, 1).subs(x, -dx).expand()\n",
    "\n",
    "# Display the interpolants\n",
    "pR5, pL5\n"
   ]
  },
  {
   "cell_type": "code",
   "execution_count": 3,
   "metadata": {},
   "outputs": [
    {
     "data": {
      "image/png": "[encoded data removed]",
      "text/latex": [
       "$\\displaystyle \\left( \\frac{u_{5}}{3} - \\frac{7 u_{6}}{6} + \\frac{11 u_{7}}{6}, \\  - \\frac{u_{6}}{6} + \\frac{5 u_{7}}{6} + \\frac{u_{8}}{3}, \\  \\frac{u_{7}}{3} + \\frac{5 u_{8}}{6} - \\frac{u_{9}}{6}\\right)$"
      ],
      "text/plain": [
       "⎛u₅   7⋅u₆   11⋅u₇    u₆   5⋅u₇   u₈  u₇   5⋅u₈   u₉⎞\n",
       "⎜── - ──── + ─────, - ── + ──── + ──, ── + ──── - ──⎟\n",
       "⎝3     6       6      6     6     3   3     6     6 ⎠"
      ]
     },
     "execution_count": 3,
     "metadata": {},
     "output_type": "execute_result"
    }
   ],
   "source": [
    "# Compute sub-stencils of the 5-point stencil to the right of the interface\n",
    "p1R = polys.specialpolys.interpolating_poly(4, x, X=Xdata[0:4], Y=Udata[0:4]).diff(x, 1).subs(x, 0).expand()\n",
    "p2R = polys.specialpolys.interpolating_poly(4, x, X=Xdata[1:5], Y=Udata[1:5]).diff(x, 1).subs(x, 0).expand()\n",
    "p3R = polys.specialpolys.interpolating_poly(4, x, X=Xdata[2:6], Y=Udata[2:6]).diff(x, 1).subs(x, 0).expand()\n",
    "\n",
    "# Display the interpolants\n",
    "p1R, p2R, p3R"
   ]
  },
  {
   "cell_type": "code",
   "execution_count": 4,
   "metadata": {},
   "outputs": [
    {
     "data": {
      "image/png": "[encoded data removed]",
      "text/latex": [
       "$\\displaystyle \\left[\\begin{matrix}\\frac{1}{30}\\\\- \\frac{13}{60}\\\\\\frac{47}{60}\\\\\\frac{9}{20}\\\\- \\frac{1}{20}\\end{matrix}\\right]$"
      ],
      "text/plain": [
       "⎡1/30 ⎤\n",
       "⎢     ⎥\n",
       "⎢-13  ⎥\n",
       "⎢──── ⎥\n",
       "⎢ 60  ⎥\n",
       "⎢     ⎥\n",
       "⎢ 47  ⎥\n",
       "⎢ ──  ⎥\n",
       "⎢ 60  ⎥\n",
       "⎢     ⎥\n",
       "⎢9/20 ⎥\n",
       "⎢     ⎥\n",
       "⎣-1/20⎦"
      ]
     },
     "execution_count": 4,
     "metadata": {},
     "output_type": "execute_result"
    }
   ],
   "source": [
    "# Arrange the sub-stencils into a matrix\n",
    "A = zeros(5,3)\n",
    "A[0:3,0] = Matrix([p1R.coeff(U[5]), p1R.coeff(U[6]), p1R.coeff(U[7])])\n",
    "A[1:4,1] = Matrix([p2R.coeff(U[6]), p2R.coeff(U[7]), p2R.coeff(U[8])])\n",
    "A[2:5,2] = Matrix([p3R.coeff(U[7]), p3R.coeff(U[8]), p3R.coeff(U[9])])\n",
    "A\n",
    "b = Matrix([pR5.coeff(U[5]), pR5.coeff(U[6]), pR5.coeff(U[7]), pR5.coeff(U[8]), pR5.coeff(U[9])])\n",
    "b"
   ]
  },
  {
   "cell_type": "code",
   "execution_count": 5,
   "metadata": {},
   "outputs": [
    {
     "data": {
      "image/png": "[encoded data removed]",
      "text/latex": [
       "$\\displaystyle \\left[\\begin{matrix}\\frac{1}{10} & \\frac{3}{5} & \\frac{3}{10}\\end{matrix}\\right]$"
      ],
      "text/plain": [
       "[1/10  3/5  3/10]"
      ]
     },
     "execution_count": 5,
     "metadata": {},
     "output_type": "execute_result"
    }
   ],
   "source": [
    "# Linear weights\n",
    "gamma = A.LUsolve(b)\n",
    "gamma.T"
   ]
  },
  {
   "cell_type": "code",
   "execution_count": 6,
   "metadata": {},
   "outputs": [
    {
     "data": {
      "image/png": "[encoded data removed]",
      "text/latex": [
       "$\\displaystyle \\left( - \\frac{u_{5}}{6} + \\frac{5 u_{6}}{6} + \\frac{u_{7}}{3}, \\  \\frac{u_{6}}{3} + \\frac{5 u_{7}}{6} - \\frac{u_{8}}{6}, \\  \\frac{11 u_{7}}{6} - \\frac{7 u_{8}}{6} + \\frac{u_{9}}{3}\\right)$"
      ],
      "text/plain": [
       "⎛  u₅   5⋅u₆   u₇  u₆   5⋅u₇   u₈  11⋅u₇   7⋅u₈   u₉⎞\n",
       "⎜- ── + ──── + ──, ── + ──── - ──, ───── - ──── + ──⎟\n",
       "⎝  6     6     3   3     6     6     6      6     3 ⎠"
      ]
     },
     "execution_count": 6,
     "metadata": {},
     "output_type": "execute_result"
    }
   ],
   "source": [
    "# Compute sub-stencils of the 5-point stencil to the left of the interface\n",
    "p1L = polys.specialpolys.interpolating_poly(4, x, X=Xdata[0:4], Y=Udata[0:4]).diff(x, 1).subs(x, -dx).expand()\n",
    "p2L = polys.specialpolys.interpolating_poly(4, x, X=Xdata[1:5], Y=Udata[1:5]).diff(x, 1).subs(x, -dx).expand()\n",
    "p3L = polys.specialpolys.interpolating_poly(4, x, X=Xdata[2:6], Y=Udata[2:6]).diff(x, 1).subs(x, -dx).expand()\n",
    "\n",
    "# Display the interpolant\n",
    "p1L, p2L, p3L"
   ]
  },
  {
   "cell_type": "code",
   "execution_count": null,
   "metadata": {},
   "outputs": [],
   "source": []
  }
 ],
 "metadata": {
  "kernelspec": {
   "display_name": "Python 3",
   "language": "python",
   "name": "python3"
  },
  "language_info": {
   "codemirror_mode": {
    "name": "ipython",
    "version": 3
   },
   "file_extension": ".py",
   "mimetype": "text/x-python",
   "name": "python",
   "nbconvert_exporter": "python",
   "pygments_lexer": "ipython3",
   "version": "3.10.9"
  }
 },
 "nbformat": 4,
 "nbformat_minor": 2
}
