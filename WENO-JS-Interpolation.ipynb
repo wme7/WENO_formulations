{
 "cells": [
  {
   "cell_type": "markdown",
   "metadata": {},
   "source": [
    "# WENO Interpolation\n",
    "[]: # (C) 2017-2024, Manuel A. Diaz"
   ]
  },
  {
   "cell_type": "code",
   "execution_count": 1,
   "metadata": {},
   "outputs": [],
   "source": [
    "# Load everything from sympy\n",
    "from sympy import *\n",
    "init_printing(use_unicode=True)"
   ]
  },
  {
   "cell_type": "code",
   "execution_count": 2,
   "metadata": {},
   "outputs": [],
   "source": [
    "# Define Fornberg's weights algorithm \n",
    "def FornbergWeights(k, xbar, x):\n",
    "    # \"\"\"\n",
    "    # Fornberg's algorithm for computing the weights of the finite difference approximation for the derivative.\n",
    "    \n",
    "    # Parameters:\n",
    "    # k (int): The order of the derivative.\n",
    "    # x0 (float): The point at which the derivative is to be estimated.\n",
    "    # x (list): The list of nodes / grid-points.\n",
    "    \n",
    "    # Returns:\n",
    "    # list: A list containing the weights of the finite difference approximation for the derivative.\n",
    "    # \"\"\"\n",
    "    n = len(x)\n",
    "    if k >= n:\n",
    "        raise ValueError(\"Order of derivative k must be less than length of x list.\")\n",
    "\n",
    "    m = k; # Order of the stencil, i.e. the degree of polynomial that is exactly reproduced\n",
    "\n",
    "    c1 = 1\n",
    "    c4 = x[0] - xbar\n",
    "    C = [ [0] * n for _ in range(m + 1) ] # initialize a list of lists with zeros\n",
    "    C[0][0] = 1\n",
    "    for i in range(1, n):\n",
    "        mn = min(i, m)\n",
    "        c2 = 1\n",
    "        c5 = c4\n",
    "        c4 = x[i] - xbar\n",
    "        for j in range(0, i):\n",
    "            c3 = x[i] - x[j]\n",
    "            c2 = c2 * c3\n",
    "            if j == (i-1):\n",
    "                for s in range(mn, 0, -1):\n",
    "                    C[s][i] = c1 * (s*C[s-1][i-1] - c5*C[s][i-1]) / c2\n",
    "                C[0][i] = -c1*c5*C[0][i-1] / c2\n",
    "            for s in range(mn, 0, -1):\n",
    "                C[s][j] = (c4*C[s][j] - s*C[s-1][j]) / c3\n",
    "            C[0][j] = c4*C[0][j] / c3\n",
    "        c1 = c2\n",
    "    return C[-1]"
   ]
  },
  {
   "cell_type": "code",
   "execution_count": 3,
   "metadata": {},
   "outputs": [],
   "source": [
    "# Compute interpolation weights\n",
    "k = 0"
   ]
  },
  {
   "cell_type": "code",
   "execution_count": 4,
   "metadata": {},
   "outputs": [
    {
     "data": {
      "image/png": "[encoded data removed]",
      "text/latex": [
       "$\\displaystyle \\left[\\begin{matrix}\\frac{3 u_{1}}{128} - \\frac{5 u_{2}}{32} + \\frac{45 u_{3}}{64} + \\frac{15 u_{4}}{32} - \\frac{5 u_{5}}{128}\\end{matrix}\\right]$"
      ],
      "text/plain": [
       "⎡3⋅u₁   5⋅u₂   45⋅u₃   15⋅u₄   5⋅u₅⎤\n",
       "⎢──── - ──── + ───── + ───── - ────⎥\n",
       "⎣128     32      64      32    128 ⎦"
      ]
     },
     "execution_count": 4,
     "metadata": {},
     "output_type": "execute_result"
    }
   ],
   "source": [
    "# Right interface interpolation\n",
    "xRight = 0.5\n",
    "\n",
    "# Compute interpolation weights for the 5-point stencil\n",
    "w = FornbergWeights(k, xRight, [-2,-1, 0, 1, 2]); b = Matrix(w).applyfunc(nsimplify)\n",
    "\n",
    "# Full polynomial interpolant\n",
    "u1, u2, u3, u4, u5 = Symbol('u1'), Symbol('u2'), Symbol('u3'), Symbol('u4'), Symbol('u5')\n",
    "U = Matrix([u1, u2, u3, u4, u5])\n",
    "p = b.T * U\n",
    "\n",
    "# Display the polynomial interpolant\n",
    "p"
   ]
  },
  {
   "cell_type": "code",
   "execution_count": 5,
   "metadata": {},
   "outputs": [
    {
     "data": {
      "image/png": "[encoded data removed]",
      "text/latex": [
       "$\\displaystyle \\left[\\begin{matrix}\\frac{3}{8} & 0 & 0\\\\- \\frac{5}{4} & - \\frac{1}{8} & 0\\\\\\frac{15}{8} & \\frac{3}{4} & \\frac{3}{8}\\\\0 & \\frac{3}{8} & \\frac{3}{4}\\\\0 & 0 & - \\frac{1}{8}\\end{matrix}\\right]$"
      ],
      "text/plain": [
       "⎡3/8    0     0  ⎤\n",
       "⎢                ⎥\n",
       "⎢-5/4  -1/8   0  ⎥\n",
       "⎢                ⎥\n",
       "⎢15/8  3/4   3/8 ⎥\n",
       "⎢                ⎥\n",
       "⎢ 0    3/8   3/4 ⎥\n",
       "⎢                ⎥\n",
       "⎣ 0     0    -1/8⎦"
      ]
     },
     "execution_count": 5,
     "metadata": {},
     "output_type": "execute_result"
    }
   ],
   "source": [
    "# Initialize an empty matrix of size 3x5\n",
    "A = zeros(5,3)\n",
    "\n",
    "# Compute 3 sub-stencils of the 5-point stencil\n",
    "w1 = FornbergWeights(k, xRight, [-2,-1, 0]); coefs1 = Matrix(w1).applyfunc(nsimplify)\n",
    "w2 = FornbergWeights(k, xRight, [-1, 0, 1]); coefs2 = Matrix(w2).applyfunc(nsimplify)\n",
    "w3 = FornbergWeights(k, xRight, [ 0, 1, 2]); coefs3 = Matrix(w3).applyfunc(nsimplify)\n",
    "A[0:3,0] = coefs1\n",
    "A[1:4,1] = coefs2\n",
    "A[2:5,2] = coefs3\n",
    "\n",
    "# Display the matrix\n",
    "A"
   ]
  },
  {
   "cell_type": "code",
   "execution_count": 6,
   "metadata": {},
   "outputs": [
    {
     "data": {
      "image/png": "[encoded data removed]",
      "text/latex": [
       "$\\displaystyle \\left[\\begin{matrix}\\frac{1}{16} & \\frac{5}{8} & \\frac{5}{16}\\end{matrix}\\right]$"
      ],
      "text/plain": [
       "[1/16  5/8  5/16]"
      ]
     },
     "execution_count": 6,
     "metadata": {},
     "output_type": "execute_result"
    }
   ],
   "source": [
    "# Compute the linear weights for the 5-point stencil using singular value decomposition\n",
    "gamma = A.LUsolve(b)\n",
    "gamma.T\n"
   ]
  },
  {
   "cell_type": "code",
   "execution_count": 7,
   "metadata": {},
   "outputs": [
    {
     "data": {
      "image/png": "[encoded data removed]",
      "text/latex": [
       "$\\displaystyle \\left[\\begin{matrix}- \\frac{5 u_{1}}{128} + \\frac{15 u_{2}}{32} + \\frac{45 u_{3}}{64} - \\frac{5 u_{4}}{32} + \\frac{3 u_{5}}{128}\\end{matrix}\\right]$"
      ],
      "text/plain": [
       "⎡  5⋅u₁   15⋅u₂   45⋅u₃   5⋅u₄   3⋅u₅⎤\n",
       "⎢- ──── + ───── + ───── - ──── + ────⎥\n",
       "⎣  128      32      64     32    128 ⎦"
      ]
     },
     "execution_count": 7,
     "metadata": {},
     "output_type": "execute_result"
    }
   ],
   "source": [
    "# Left interface interpolation\n",
    "xLeft = -0.5\n",
    "\n",
    "# Compute interpolation weights for the 5-point stencil\n",
    "w = FornbergWeights(k, xLeft, [-2,-1, 0, 1, 2]); b = Matrix(w).applyfunc(nsimplify)\n",
    "\n",
    "# Full polynomial interpolant\n",
    "u1, u2, u3, u4, u5 = Symbol('u1'), Symbol('u2'), Symbol('u3'), Symbol('u4'), Symbol('u5')\n",
    "u = Matrix([u1, u2, u3, u4, u5])\n",
    "p = b.T * u\n",
    "p"
   ]
  },
  {
   "cell_type": "markdown",
   "metadata": {},
   "source": [
    "The entire Left side is mirror symmetric to the Right side."
   ]
  }
 ],
 "metadata": {
  "kernelspec": {
   "display_name": "Python 3",
   "language": "python",
   "name": "python3"
  },
  "language_info": {
   "codemirror_mode": {
    "name": "ipython",
    "version": 3
   },
   "file_extension": ".py",
   "mimetype": "text/x-python",
   "name": "python",
   "nbconvert_exporter": "python",
   "pygments_lexer": "ipython3",
   "version": "3.10.9"
  }
 },
 "nbformat": 4,
 "nbformat_minor": 2
}
