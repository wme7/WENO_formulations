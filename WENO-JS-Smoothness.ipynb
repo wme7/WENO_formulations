{
 "cells": [
  {
   "cell_type": "markdown",
   "metadata": {},
   "source": [
    "# WENO Smoothness Indicators\n",
    "[]: # (C) 2017-2024, Manuel A. Diaz"
   ]
  },
  {
   "cell_type": "code",
   "execution_count": 2,
   "metadata": {},
   "outputs": [],
   "source": [
    "# Load everything from sympy\n",
    "from sympy import *\n",
    "init_printing(use_unicode=True)"
   ]
  },
  {
   "cell_type": "code",
   "execution_count": 5,
   "metadata": {},
   "outputs": [
    {
     "name": "stdout",
     "output_type": "stream",
     "text": [
      "Smoothness indicators:\n"
     ]
    },
    {
     "data": {
      "image/png": "[encoded data removed]",
      "text/latex": [
       "$\\displaystyle \\left[\\begin{matrix}\\frac{4 u_{0}^{2} - 19 u_{0} u_{1} + 11 u_{0} u_{2} + 25 u_{1}^{2} - 31 u_{1} u_{2} + 10 u_{2}^{2}}{3}\\\\\\frac{4 u_{1}^{2} - 13 u_{1} u_{2} + 5 u_{1} u_{3} + 13 u_{2}^{2} - 13 u_{2} u_{3} + 4 u_{3}^{2}}{3}\\\\\\frac{10 u_{2}^{2} - 31 u_{2} u_{3} + 11 u_{2} u_{4} + 25 u_{3}^{2} - 19 u_{3} u_{4} + 4 u_{4}^{2}}{3}\\end{matrix}\\right]$"
      ],
      "text/plain": [
       "⎡    2                              2                   2⎤\n",
       "⎢4⋅u₀  - 19⋅u₀⋅u₁ + 11⋅u₀⋅u₂ + 25⋅u₁  - 31⋅u₁⋅u₂ + 10⋅u₂ ⎥\n",
       "⎢────────────────────────────────────────────────────────⎥\n",
       "⎢                           3                            ⎥\n",
       "⎢                                                        ⎥\n",
       "⎢     2                             2                  2 ⎥\n",
       "⎢ 4⋅u₁  - 13⋅u₁⋅u₂ + 5⋅u₁⋅u₃ + 13⋅u₂  - 13⋅u₂⋅u₃ + 4⋅u₃  ⎥\n",
       "⎢ ────────────────────────────────────────────────────── ⎥\n",
       "⎢                           3                            ⎥\n",
       "⎢                                                        ⎥\n",
       "⎢     2                              2                  2⎥\n",
       "⎢10⋅u₂  - 31⋅u₂⋅u₃ + 11⋅u₂⋅u₄ + 25⋅u₃  - 19⋅u₃⋅u₄ + 4⋅u₄ ⎥\n",
       "⎢────────────────────────────────────────────────────────⎥\n",
       "⎣                           3                            ⎦"
      ]
     },
     "execution_count": 5,
     "metadata": {},
     "output_type": "execute_result"
    }
   ],
   "source": [
    "# Compute smoothness indicators\n",
    "print(\"Smoothness indicators:\")\n",
    "\n",
    "x = Symbol('x')\n",
    "dx = Symbol('dx')\n",
    "X = [-2*dx, -dx, 0, dx, 2*dx]\n",
    "U = symbols('u_0:5')\n",
    "\n",
    "def dp(j, l, r=3) :\n",
    "    pj = polys.specialpolys.interpolating_poly(r, x, X=X[j:j+r], Y=U[j:j+r])\n",
    "    dpj = pj.diff(x, l).expand().simplify()\n",
    "    dpj2 = dpj**2\n",
    "    idpj2 = integrate(dpj2, (x, -dx/2, dx/2))\n",
    "    return idpj2\n",
    "\n",
    "# Compute smoothness indicators\n",
    "beta1 = sum(dx**(2*l-1) * dp(0, l) for l in range(1, 3)).simplify().factor()\n",
    "beta2 = sum(dx**(2*l-1) * dp(1, l) for l in range(1, 3)).simplify().factor()\n",
    "beta3 = sum(dx**(2*l-1) * dp(2, l) for l in range(1, 3)).simplify().factor()\n",
    "beta = Matrix([beta1, beta2, beta3]).applyfunc(nsimplify)\n",
    "beta\n"
   ]
  },
  {
   "cell_type": "code",
   "execution_count": null,
   "metadata": {},
   "outputs": [],
   "source": []
  }
 ],
 "metadata": {
  "kernelspec": {
   "display_name": "Python 3",
   "language": "python",
   "name": "python3"
  },
  "language_info": {
   "codemirror_mode": {
    "name": "ipython",
    "version": 3
   },
   "file_extension": ".py",
   "mimetype": "text/x-python",
   "name": "python",
   "nbconvert_exporter": "python",
   "pygments_lexer": "ipython3",
   "version": "3.11.6"
  }
 },
 "nbformat": 4,
 "nbformat_minor": 2
}
